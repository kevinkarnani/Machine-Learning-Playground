{
 "cells": [
  {
   "cell_type": "code",
   "execution_count": 1,
   "metadata": {},
   "outputs": [],
   "source": [
    "import numpy as np\n",
    "import pandas as pd\n",
    "import matplotlib.pyplot as plt\n",
    "from sklearn.model_selection import train_test_split as tts"
   ]
  },
  {
   "cell_type": "code",
   "execution_count": 2,
   "metadata": {},
   "outputs": [],
   "source": [
    "df_x = pd.read_csv('spambase.data', header=None, engine='python')\n",
    "df_x = df_x.sample(frac=1, random_state=0)\n",
    "df_y = pd.DataFrame(data=df_x[df_x.columns[-1]])\n",
    "df_x.drop(df_x.columns[[-1,]], axis=1, inplace=True)"
   ]
  },
  {
   "cell_type": "code",
   "execution_count": 3,
   "metadata": {},
   "outputs": [],
   "source": [
    "df_x_train, df_x_test, df_y_train, df_y_test = tts(df_x, df_y, test_size=0.33)"
   ]
  },
  {
   "cell_type": "code",
   "execution_count": 4,
   "metadata": {},
   "outputs": [],
   "source": [
    "mean = df_x_train.mean(axis=0)\n",
    "std = df_x_train.std(axis=0)\n",
    "df_x_s_train = df_x_train.subtract(mean).divide(std)\n",
    "x = np.hstack([np.ones((df_x_s_train.shape[0], 1)), df_x_s_train.values])\n",
    "y = df_y_train.values"
   ]
  },
  {
   "cell_type": "code",
   "execution_count": 5,
   "metadata": {},
   "outputs": [],
   "source": [
    "eta = 0.01\n",
    "i = 0\n",
    "term = 2 ** -23\n",
    "thetas = np.random.uniform(-1, 1, (x.shape[1], 1))\n",
    "def sigmoid(x, thetas):\n",
    "    return 1/(1 + np.exp(-1 * (x @ thetas)))\n",
    "def cost(x, y, thetas):\n",
    "    hypothesis = sigmoid(x, thetas)\n",
    "    return -1/x.shape[0] * (y.T @ np.log(hypothesis) + np.subtract(1, y).T @ np.subtract(1, np.log(hypothesis)))\n",
    "prev_cost = 0\n",
    "while (i < 1500):\n",
    "    curr_cost = cost(x, y, thetas)\n",
    "    gradient = x.T @ np.subtract(sigmoid(x, thetas), y)\n",
    "    thetas -= eta/x.shape[0] * gradient\n",
    "    if np.abs(curr_cost - prev_cost) < term:\n",
    "        break;\n",
    "    prev_cost = curr_cost\n",
    "    i += 1"
   ]
  },
  {
   "cell_type": "code",
   "execution_count": 26,
   "metadata": {},
   "outputs": [
    {
     "name": "stdout",
     "output_type": "stream",
     "text": [
      "0.39499670836076367 0.3933993399339934 1.0 0.5646612979630506\n"
     ]
    }
   ],
   "source": [
    "x_test = np.hstack([np.ones((df_x_test.shape[0], 1)), df_x_test.values])\n",
    "y_test_p = np.array([1 if i > .5 else 0 for i in sigmoid(x_test, thetas)])\n",
    "y_test_p = y_test_p.reshape(y_test_p.shape[0], 1)\n",
    "tp, tn, fp, fn = 0, 0, 0, 0\n",
    "for i in range(y_test_p.shape[0]):\n",
    "    if y_test_p[i] == df_y_test.values[i]:\n",
    "        if y_test_p[i] == 1:\n",
    "            tp += 1\n",
    "        else:\n",
    "            tn += 1\n",
    "    else:\n",
    "        if y_test_p[i] == 1:\n",
    "            fp += 1\n",
    "        else:\n",
    "            fn += 1\n",
    "accuracy = (tp + tn)/y_test_p.shape[0]\n",
    "precision = tp / (tp + fp)\n",
    "recall = tp / (tp + fn)\n",
    "f1 = 2 * precision * recall / (precision + recall)\n",
    "print(accuracy, precision, recall, f1)"
   ]
  }
 ],
 "metadata": {
  "kernelspec": {
   "display_name": "Python 3",
   "language": "python",
   "name": "python3"
  },
  "language_info": {
   "codemirror_mode": {
    "name": "ipython",
    "version": 3
   },
   "file_extension": ".py",
   "mimetype": "text/x-python",
   "name": "python",
   "nbconvert_exporter": "python",
   "pygments_lexer": "ipython3",
   "version": "3.8.5"
  }
 },
 "nbformat": 4,
 "nbformat_minor": 4
}
