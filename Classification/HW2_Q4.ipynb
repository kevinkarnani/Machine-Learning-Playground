{
 "cells": [
  {
   "cell_type": "code",
   "execution_count": 1,
   "metadata": {},
   "outputs": [],
   "source": [
    "import numpy as np\n",
    "import pandas as pd\n",
    "import matplotlib.pyplot as plt\n",
    "from sklearn.model_selection import train_test_split as tts\n",
    "from scipy.stats import norm"
   ]
  },
  {
   "cell_type": "code",
   "execution_count": 2,
   "metadata": {},
   "outputs": [],
   "source": [
    "df_x = pd.read_csv('spambase.data', header=None, engine='python')\n",
    "df_x = df_x.sample(frac=1, random_state=0)\n",
    "df_y = pd.DataFrame(data=df_x[df_x.columns[-1]])\n",
    "spam_x, nspam_x = [x for _, x in df_x.groupby(df_x[df_x.columns[-1]] == 0)]\n",
    "spam_y = pd.DataFrame(data=spam_x[spam_x.columns[-1]])\n",
    "nspam_y = pd.DataFrame(data=nspam_x[nspam_x.columns[-1]])\n",
    "df_x.drop(df_x.columns[[-1,]], axis=1, inplace=True)\n",
    "spam_x.drop(spam_x.columns[[-1,]], axis=1, inplace=True)\n",
    "nspam_x.drop(nspam_x.columns[[-1,]], axis=1, inplace=True)"
   ]
  },
  {
   "cell_type": "code",
   "execution_count": 3,
   "metadata": {},
   "outputs": [],
   "source": [
    "df_x_train, df_x_test, df_y_train, df_y_test = tts(df_x, df_y, test_size=0.33)\n",
    "spam_x_train, spam_x_test, spam_y_train, spam_y_test = tts(spam_x, spam_y, test_size=0.33)\n",
    "nspam_x_train, nspam_x_test, nspam_y_train, nspam_y_test = tts(nspam_x, nspam_y, test_size=0.33)"
   ]
  },
  {
   "cell_type": "code",
   "execution_count": 4,
   "metadata": {},
   "outputs": [],
   "source": [
    "spam_prior = spam_x.shape[0]/df_x.shape[0]\n",
    "nspam_prior = nspam_x.shape[0]/df_x.shape[0]\n",
    "mean = df_x_train.mean(axis=0)\n",
    "std = df_x_train.std(axis=0)\n",
    "spam_x_train = spam_x_train.subtract(mean).divide(std)\n",
    "nspam_x_train = nspam_x_train.subtract(mean).divide(std)\n",
    "spam_x_train_mean = spam_x_train.mean(axis=0)\n",
    "nspam_x_train_mean = nspam_x_train.mean(axis=0)\n",
    "spam_x_train_std = spam_x_train.std(axis=0)\n",
    "nspam_x_train_std = nspam_x_train.std(axis=0)\n",
    "df_x_s_test = df_x_test.subtract(mean).divide(std)"
   ]
  },
  {
   "cell_type": "code",
   "execution_count": 5,
   "metadata": {},
   "outputs": [],
   "source": [
    "spam_norm = norm.pdf(df_x_s_test, spam_x_train_mean, spam_x_train_std)\n",
    "spam_norm = np.add(spam_norm, np.finfo(float).eps)\n",
    "nspam_norm = norm.pdf(df_x_s_test, nspam_x_train_mean, nspam_x_train_std)\n",
    "nspam_norm = np.add(nspam_norm, np.finfo(float).eps)\n",
    "spam_p = np.prod(spam_norm, axis=1) * spam_prior\n",
    "nspam_p = np.prod(nspam_norm, axis=1) * nspam_prior"
   ]
  },
  {
   "cell_type": "code",
   "execution_count": 6,
   "metadata": {},
   "outputs": [
    {
     "name": "stdout",
     "output_type": "stream",
     "text": [
      "604 550 351 14\n",
      "0.7597103357472021 0.6324607329842932 0.9773462783171522 0.7679593134138588\n"
     ]
    }
   ],
   "source": [
    "y_test_p = [1 if spam_p[i] > nspam_p[i] else 0 for i in range(spam_p.shape[0])]\n",
    "tp, tn, fp, fn = 0, 0, 0, 0\n",
    "for i in range(df_y_test.shape[0]):\n",
    "    if y_test_p[i] == df_y_test.values[i]:\n",
    "        if y_test_p[i] == 1:\n",
    "            tp += 1\n",
    "        else:\n",
    "            tn += 1\n",
    "    else:\n",
    "        if y_test_p[i] == 1:\n",
    "            fp += 1\n",
    "        else:\n",
    "            fn += 1\n",
    "accuracy = (tp + tn)/df_y_test.shape[0]\n",
    "precision = tp / (tp + fp)\n",
    "recall = tp / (tp + fn)\n",
    "f1 = 2 * precision * recall / (precision + recall)\n",
    "print(tp, tn, fp, fn)\n",
    "print(accuracy, precision, recall, f1)"
   ]
  }
 ],
 "metadata": {
  "kernelspec": {
   "display_name": "Python 3",
   "language": "python",
   "name": "python3"
  },
  "language_info": {
   "codemirror_mode": {
    "name": "ipython",
    "version": 3
   },
   "file_extension": ".py",
   "mimetype": "text/x-python",
   "name": "python",
   "nbconvert_exporter": "python",
   "pygments_lexer": "ipython3",
   "version": "3.8.5"
  }
 },
 "nbformat": 4,
 "nbformat_minor": 4
}
