{
 "cells": [
  {
   "cell_type": "markdown",
   "metadata": {},
   "source": [
    "Import Libraries"
   ]
  },
  {
   "cell_type": "code",
   "execution_count": 24,
   "metadata": {},
   "outputs": [],
   "source": [
    "import pandas as pd\n",
    "import numpy as np\n",
    "import matplotlib.pyplot as plt\n",
    "from sklearn.model_selection import train_test_split as tts"
   ]
  },
  {
   "cell_type": "markdown",
   "metadata": {},
   "source": [
    "Read in and Format Data"
   ]
  },
  {
   "cell_type": "code",
   "execution_count": 25,
   "metadata": {},
   "outputs": [],
   "source": [
    "names = ['Age', 'Temperature of Water', 'Length of Fish']\n",
    "df_x = pd.read_csv('x06Simple.csv', usecols=range(1,4), names=names, header=0, engine='python')\n",
    "df_x = df_x.sample(frac=1, random_state=0)\n",
    "df_y = pd.DataFrame(data=df_x[df_x.columns[-1]])\n",
    "df_x.drop(df_x.columns[[-1,]], axis=1, inplace=True)"
   ]
  },
  {
   "cell_type": "markdown",
   "metadata": {},
   "source": [
    "Split x and y Data into Test and Training Sets"
   ]
  },
  {
   "cell_type": "code",
   "execution_count": 26,
   "metadata": {},
   "outputs": [],
   "source": [
    "df_x_train, df_x_test, df_y_train, df_y_test = tts(df_x, df_y, test_size=0.33)"
   ]
  },
  {
   "cell_type": "markdown",
   "metadata": {},
   "source": [
    "Calculate Mean and Standard Deviation to Standardize x Data"
   ]
  },
  {
   "cell_type": "code",
   "execution_count": 27,
   "metadata": {},
   "outputs": [],
   "source": [
    "mean = df_x_train.mean(axis=0)\n",
    "std = df_x_train.std(axis=0)\n",
    "df_x_s_train = df_x_train.subtract(mean).divide(std)\n",
    "x = np.hstack([np.ones((df_x_s_train.shape[0], 1)), df_x_s_train.values])\n",
    "y = df_y_train.values"
   ]
  },
  {
   "cell_type": "markdown",
   "metadata": {},
   "source": [
    "Define RMSE Function"
   ]
  },
  {
   "cell_type": "code",
   "execution_count": 28,
   "metadata": {},
   "outputs": [],
   "source": [
    "def RMSE(thetas, x, y):\n",
    "    x = np.hstack([np.ones((x.shape[0], 1)), x.subtract(mean).divide(std)])\n",
    "    diff = y.subtract(x @ thetas)\n",
    "    return np.sqrt(diff.pow(2, axis=0).sum(axis=0).values/float(len(y)))[0]"
   ]
  },
  {
   "cell_type": "markdown",
   "metadata": {},
   "source": [
    "Perform Batch Gradient Descent"
   ]
  },
  {
   "cell_type": "code",
   "execution_count": 29,
   "metadata": {},
   "outputs": [
    {
     "name": "stdout",
     "output_type": "stream",
     "text": [
      "[[3279.98512134]\n",
      " [1108.57377939]\n",
      " [-193.00534589]]\n",
      "587.6224874522475\n"
     ]
    }
   ],
   "source": [
    "eta = 0.01\n",
    "i = 0\n",
    "term = 2 ** -23\n",
    "thetas = np.random.uniform(-1, 1, (3, 1))\n",
    "rmse_test = [RMSE(thetas, df_x_test, df_y_test)]\n",
    "rmse_train = [RMSE(thetas, df_x_train, df_y_train)]\n",
    "while (i < 1000):\n",
    "    gradient = 2 * x.T @ ((x @ thetas) - y)\n",
    "    thetas -= eta/floatdf_x_train.shape[0] * gradient\n",
    "    rmse_test.append(RMSE(thetas, df_x_test, df_y_test))\n",
    "    rmse_train.append(RMSE(thetas, df_x_train, df_y_train))\n",
    "    if np.abs(rmse_test[i + 1] - rmse_test[i])/rmse_test[i] < term:\n",
    "        break\n",
    "    i += 1\n",
    "print(thetas)\n",
    "print(rmse_test[-1])"
   ]
  },
  {
   "cell_type": "markdown",
   "metadata": {},
   "source": [
    "As you can see, $y = 3279.98512134 + 1108.57377939x_1 - 193.00534589x_2$"
   ]
  },
  {
   "cell_type": "markdown",
   "metadata": {},
   "source": [
    "As you can see, the final *testing* RMSE is 587.6224874522475"
   ]
  },
  {
   "cell_type": "code",
   "execution_count": 31,
   "metadata": {},
   "outputs": [
    {
     "data": {
      "image/png": "[encoded data removed]",
      "text/plain": [
       "<Figure size 432x288 with 1 Axes>"
      ]
     },
     "metadata": {
      "needs_background": "light"
     },
     "output_type": "display_data"
    }
   ],
   "source": [
    "plt.plot([j for j in range(len(rmse_train))], rmse_train, label='Training Data')\n",
    "plt.plot([j for j in range(len(rmse_test))], rmse_test, label='Testing Data')\n",
    "plt.xlabel('Number of Iterations')\n",
    "plt.ylabel('RMSE Value')\n",
    "plt.legend()\n",
    "plt.show()"
   ]
  }
 ],
 "metadata": {
  "kernelspec": {
   "display_name": "Python 3",
   "language": "python",
   "name": "python3"
  },
  "language_info": {
   "codemirror_mode": {
    "name": "ipython",
    "version": 3
   },
   "file_extension": ".py",
   "mimetype": "text/x-python",
   "name": "python",
   "nbconvert_exporter": "python",
   "pygments_lexer": "ipython3",
   "version": "3.8.5"
  }
 },
 "nbformat": 4,
 "nbformat_minor": 4
}
