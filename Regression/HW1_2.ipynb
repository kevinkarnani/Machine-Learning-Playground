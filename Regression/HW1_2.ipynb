{
 "cells": [
  {
   "cell_type": "markdown",
   "metadata": {},
   "source": [
    "Import Libraries"
   ]
  },
  {
   "cell_type": "code",
   "execution_count": 22,
   "metadata": {},
   "outputs": [],
   "source": [
    "import pandas as pd\n",
    "import numpy as np\n",
    "import matplotlib.pyplot as plt"
   ]
  },
  {
   "cell_type": "markdown",
   "metadata": {},
   "source": [
    "Read in and Format Data"
   ]
  },
  {
   "cell_type": "code",
   "execution_count": 23,
   "metadata": {
    "scrolled": false
   },
   "outputs": [],
   "source": [
    "names = ['Age', 'Temperature of Water', 'Length of Fish']\n",
    "df_x = pd.read_csv('x06Simple.csv', usecols=range(1,4), names=names, header=0, engine='python')\n",
    "df_x = df_x.sample(frac=1, random_state=0)\n",
    "df_y = pd.DataFrame(data=df_x[df_x.columns[-1]])\n",
    "df_x.drop(df_x.columns[[-1,]], axis=1, inplace=True)"
   ]
  },
  {
   "cell_type": "markdown",
   "metadata": {},
   "source": [
    "Split x and y Data into Test and Training Sets"
   ]
  },
  {
   "cell_type": "code",
   "execution_count": 16,
   "metadata": {},
   "outputs": [],
   "source": [
    "n = np.int(np.ceil(df_x.shape[0] * 2 / 3))\n",
    "df_x_train = df_x.head(n=n)\n",
    "df_x_test = df_x.tail(n=df_y.shape[0] - n)\n",
    "df_y_train = df_y.head(n=n)\n",
    "df_y_test = df_y.tail(n=df_y.shape[0] - n)"
   ]
  },
  {
   "cell_type": "markdown",
   "metadata": {},
   "source": [
    "Calculate Mean and Standard Deviation to Standardize x Training Data"
   ]
  },
  {
   "cell_type": "code",
   "execution_count": 17,
   "metadata": {},
   "outputs": [],
   "source": [
    "mean = df_x_train.mean(axis=0)\n",
    "std = df_x_train.std(axis=0)\n",
    "df_x_s_train = df_x_train.subtract(mean).divide(std)\n",
    "x = np.hstack([np.ones((df_x_s_train.shape[0], 1)), df_x_s_train.values])\n",
    "y = df_y_train.values"
   ]
  },
  {
   "cell_type": "markdown",
   "metadata": {},
   "source": [
    "Find Thetas"
   ]
  },
  {
   "cell_type": "code",
   "execution_count": 18,
   "metadata": {},
   "outputs": [
    {
     "name": "stdout",
     "output_type": "stream",
     "text": [
      "[[3275.66666667]\n",
      " [1097.60312694]\n",
      " [-259.32789051]]\n"
     ]
    }
   ],
   "source": [
    "thetas = np.linalg.inv(x.T @ x) @ (x.T @ y)\n",
    "print(thetas)"
   ]
  },
  {
   "cell_type": "markdown",
   "metadata": {},
   "source": [
    "As you can see, the resulting line is: $y = 3275.66666667 + 1097.60312694x_1 - 259.32789051x_2$"
   ]
  },
  {
   "cell_type": "markdown",
   "metadata": {},
   "source": [
    "Define RMSE Function"
   ]
  },
  {
   "cell_type": "code",
   "execution_count": 21,
   "metadata": {},
   "outputs": [
    {
     "name": "stdout",
     "output_type": "stream",
     "text": [
      "[601.9302895]\n"
     ]
    }
   ],
   "source": [
    "def RMSE(thetas, x, y):\n",
    "    x = np.hstack([np.ones((x.shape[0], 1)), x.subtract(mean).divide(std)])\n",
    "    diff = y.subtract(x @ thetas)\n",
    "    print(np.sqrt(diff.pow(2, axis=0).sum(axis=0).values/float(len(y))))\n",
    "\n",
    "RMSE(thetas, df_x_test, df_y_test)"
   ]
  },
  {
   "cell_type": "markdown",
   "metadata": {},
   "source": [
    "As you can see, the resulting RMSE is 601.9302895."
   ]
  }
 ],
 "metadata": {
  "kernelspec": {
   "display_name": "Python 3",
   "language": "python",
   "name": "python3"
  },
  "language_info": {
   "codemirror_mode": {
    "name": "ipython",
    "version": 3
   },
   "file_extension": ".py",
   "mimetype": "text/x-python",
   "name": "python",
   "nbconvert_exporter": "python",
   "pygments_lexer": "ipython3",
   "version": "3.8.5"
  }
 },
 "nbformat": 4,
 "nbformat_minor": 4
}
