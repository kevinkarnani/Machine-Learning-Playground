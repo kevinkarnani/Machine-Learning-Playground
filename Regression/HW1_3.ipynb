{
 "cells": [
  {
   "cell_type": "markdown",
   "metadata": {},
   "source": [
    "Import Libraries"
   ]
  },
  {
   "cell_type": "code",
   "execution_count": 116,
   "metadata": {},
   "outputs": [],
   "source": [
    "import pandas as pd\n",
    "import numpy as np\n",
    "import matplotlib.pyplot as plt\n",
    "from sklearn.model_selection import train_test_split as tts"
   ]
  },
  {
   "cell_type": "markdown",
   "metadata": {},
   "source": [
    "Read in and Format Data"
   ]
  },
  {
   "cell_type": "code",
   "execution_count": 117,
   "metadata": {},
   "outputs": [],
   "source": [
    "names = ['Age', 'Temperature of Water', 'Length of Fish']\n",
    "df_x = pd.read_csv('x06Simple.csv', usecols=range(1,4), names=names, header=0, engine='python')\n",
    "df_x = df_x.sample(frac=1, random_state=0)\n",
    "df_y = pd.DataFrame(data=df_x[df_x.columns[-1]])\n",
    "df_x.drop(df_x.columns[[-1,]], axis=1, inplace=True)"
   ]
  },
  {
   "cell_type": "markdown",
   "metadata": {},
   "source": [
    "Split x and y Data into Test and Training Sets"
   ]
  },
  {
   "cell_type": "code",
   "execution_count": 118,
   "metadata": {},
   "outputs": [],
   "source": [
    "df_x_train, df_x_test, df_y_train, df_y_test = tts(df_x, df_y, test_size=0.33)"
   ]
  },
  {
   "cell_type": "markdown",
   "metadata": {},
   "source": [
    "Calculate Mean and Standard Deviation to Standardize x Data"
   ]
  },
  {
   "cell_type": "code",
   "execution_count": 119,
   "metadata": {},
   "outputs": [],
   "source": [
    "mean = df_x_train.mean(axis=0)\n",
    "std = df_x_train.std(axis=0)\n",
    "df_x_s_train = df_x_train.subtract(mean).divide(std)\n",
    "df_x_s_test = df_x_test.subtract(mean).divide(std)\n",
    "x = np.hstack([np.ones((df_x_s_train.shape[0], 1)), df_x_s_train.values])\n",
    "y = df_y_train.values"
   ]
  },
  {
   "cell_type": "markdown",
   "metadata": {},
   "source": [
    "Define RMSE Function"
   ]
  },
  {
   "cell_type": "code",
   "execution_count": 120,
   "metadata": {},
   "outputs": [],
   "source": [
    "def RMSE(thetas, x, y):\n",
    "    x = np.hstack([np.ones((x.shape[0], 1)), x.subtract(mean).divide(std)])\n",
    "    diff = y.subtract(x @ thetas)\n",
    "    return np.sqrt(diff.pow(2, axis=0).sum(axis=0).values/float(len(y)))"
   ]
  },
  {
   "cell_type": "markdown",
   "metadata": {},
   "source": [
    "Find Distances, Weights, and Thetas. Use Them to Find the Average RMSE"
   ]
  },
  {
   "cell_type": "code",
   "execution_count": 125,
   "metadata": {},
   "outputs": [
    {
     "name": "stdout",
     "output_type": "stream",
     "text": [
      "[515.26881075]\n"
     ]
    }
   ],
   "source": [
    "rmse = 0\n",
    "for x_test in df_x_s_test.values:\n",
    "    num_rows = df_x_s_train.shape[0]\n",
    "    W = np.mat(np.eye(num_rows))\n",
    "    k = 1\n",
    "    for i in range(num_rows):\n",
    "        x_train = df_x_s_train.values[i]\n",
    "        d = np.abs(x_test[0] - x_train[0]) + np.abs(x_test[1] - x_train[1])\n",
    "        W[i, i] = np.exp(-d / (k ** 2))\n",
    "    thetas = np.linalg.inv(x.T @ W @ x) @ (x.T @ W @ y)\n",
    "    rmse += RMSE(thetas, df_x_test, df_y_test)\n",
    "rmse /= df_x_test.shape[0]\n",
    "print(rmse)"
   ]
  },
  {
   "cell_type": "markdown",
   "metadata": {},
   "source": [
    "As you can see, the average RMSE is 515.26881075"
   ]
  }
 ],
 "metadata": {
  "kernelspec": {
   "display_name": "Python 3",
   "language": "python",
   "name": "python3"
  },
  "language_info": {
   "codemirror_mode": {
    "name": "ipython",
    "version": 3
   },
   "file_extension": ".py",
   "mimetype": "text/x-python",
   "name": "python",
   "nbconvert_exporter": "python",
   "pygments_lexer": "ipython3",
   "version": "3.8.5"
  }
 },
 "nbformat": 4,
 "nbformat_minor": 4
}
